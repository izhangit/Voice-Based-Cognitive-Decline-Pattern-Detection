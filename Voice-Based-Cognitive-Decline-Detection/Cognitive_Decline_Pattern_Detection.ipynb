{
 "cells": [
  {
   "cell_type": "markdown",
   "id": "ee3d296c-2e6b-4cd9-9888-357eaeafa768",
   "metadata": {},
   "source": [
    "## Step 1: Import Required Libraries"
   ]
  },
  {
   "cell_type": "code",
   "execution_count": 1,
   "id": "5761b1e1-7719-4336-a0d9-864aa129720d",
   "metadata": {},
   "outputs": [],
   "source": [
    "import os\n",
    "import librosa\n",
    "import numpy as np\n",
    "import pandas as pd\n",
    "import matplotlib.pyplot as plt\n",
    "import seaborn as sns\n",
    "import speech_recognition as sr\n",
    "from sklearn.preprocessing import StandardScaler\n",
    "from sklearn.decomposition import PCA\n",
    "from sklearn.cluster import KMeans\n",
    "import warnings\n",
    "warnings.filterwarnings('ignore')\n"
   ]
  },
  {
   "cell_type": "markdown",
   "id": "a0a3db19-edf2-4e93-a6e8-af0ccc6f6d3e",
   "metadata": {},
   "source": [
    "## Step 2: Define Feature Extraction for Audio"
   ]
  },
  {
   "cell_type": "code",
   "execution_count": 2,
   "id": "612ec9c6-7ff5-4d8b-b294-7cc93e18177c",
   "metadata": {},
   "outputs": [],
   "source": [
    "def extract_audio_features(file_path):\n",
    "    y, sr = librosa.load(file_path, sr=None)\n",
    "    duration = librosa.get_duration(y=y, sr=sr)\n",
    "\n",
    "    pitches, magnitudes = librosa.piptrack(y=y, sr=sr)\n",
    "    pitch_values = pitches[magnitudes > np.median(magnitudes)]\n",
    "    avg_pitch = np.mean(pitch_values) if len(pitch_values) > 0 else 0\n",
    "    pitch_var = np.var(pitch_values) if len(pitch_values) > 0 else 0\n",
    "\n",
    "    intervals = librosa.effects.split(y, top_db=25)\n",
    "    pause_count = len(intervals) - 1\n",
    "\n",
    "    return {\n",
    "        \"duration\": duration,\n",
    "        \"avg_pitch\": avg_pitch,\n",
    "        \"pitch_var\": pitch_var,\n",
    "        \"pause_count\": pause_count\n",
    "    }\n"
   ]
  },
  {
   "cell_type": "code",
   "execution_count": 3,
   "id": "c6c85e42-fec2-463a-a17a-95fac9df2263",
   "metadata": {},
   "outputs": [
    {
     "data": {
      "text/plain": [
       "{'duration': 3.42,\n",
       " 'avg_pitch': 1690.082,\n",
       " 'pitch_var': 1243177.2,\n",
       " 'pause_count': 4}"
      ]
     },
     "execution_count": 3,
     "metadata": {},
     "output_type": "execute_result"
    }
   ],
   "source": [
    "extract_audio_features(\"common_voice_en_40865225.wav\")"
   ]
  },
  {
   "cell_type": "code",
   "execution_count": null,
   "id": "a98f592f-0a7d-4d19-8fa9-4af7566b0a86",
   "metadata": {},
   "outputs": [],
   "source": []
  },
  {
   "cell_type": "markdown",
   "id": "c54833d3-0ef2-4eda-a633-6ab4273bc9fa",
   "metadata": {},
   "source": [
    "## Step 3: Transcribe Audio + Extract Text Features"
   ]
  },
  {
   "cell_type": "code",
   "execution_count": 4,
   "id": "305255f1-0fe8-4751-a2ce-91a825e2abb3",
   "metadata": {},
   "outputs": [],
   "source": [
    "def transcribe_audio(file_path):\n",
    "    recognizer = sr.Recognizer()\n",
    "    with sr.AudioFile(file_path) as source:\n",
    "        audio = recognizer.record(source)\n",
    "        try:\n",
    "            text = recognizer.recognize_google(audio)\n",
    "        except sr.UnknownValueError:\n",
    "            text = \"\"\n",
    "    return text\n",
    "\n",
    "def extract_text_features(text):\n",
    "    words = text.split()\n",
    "    word_count = len(words)\n",
    "    hesitation_markers = [\"um\", \"uh\", \"erm\"]\n",
    "    hesitations = sum([text.lower().count(h) for h in hesitation_markers])\n",
    "    avg_word_length = np.mean([len(w) for w in words]) if words else 0\n",
    "    return {\n",
    "        \"word_count\": word_count,\n",
    "        \"hesitations\": hesitations,\n",
    "        \"avg_word_length\": avg_word_length\n",
    "    }\n"
   ]
  },
  {
   "cell_type": "code",
   "execution_count": 5,
   "id": "7b1a6665-92ee-46db-95e0-63e8bd633d25",
   "metadata": {},
   "outputs": [
    {
     "name": "stdout",
     "output_type": "stream",
     "text": [
      "Transcript: in a pamphlet what is to be done\n"
     ]
    },
    {
     "data": {
      "text/plain": [
       "{'word_count': 8, 'hesitations': 0, 'avg_word_length': 3.125}"
      ]
     },
     "execution_count": 5,
     "metadata": {},
     "output_type": "execute_result"
    }
   ],
   "source": [
    "text = transcribe_audio(\"common_voice_en_40865225.wav\")\n",
    "print(\"Transcript:\", text)\n",
    "extract_text_features(text)\n"
   ]
  },
  {
   "cell_type": "code",
   "execution_count": null,
   "id": "3e7d5621-ee0d-42ea-9126-9fb6e7aa78bd",
   "metadata": {},
   "outputs": [],
   "source": []
  },
  {
   "cell_type": "markdown",
   "id": "c854bf04-db8c-43f5-afcd-ad5bb19a2b1e",
   "metadata": {},
   "source": [
    "## Step 4: Combine All Features into One Row"
   ]
  },
  {
   "cell_type": "code",
   "execution_count": 6,
   "id": "c384db1f-98d4-41f6-9ae3-9ed31bb609d4",
   "metadata": {},
   "outputs": [],
   "source": [
    "audio_feats = extract_audio_features(\"common_voice_en_40865225.wav\")\n",
    "transcript = transcribe_audio(\"common_voice_en_40865225.wav\")\n",
    "text_feats = extract_text_features(transcript)\n",
    "\n",
    "combined_features = {**audio_feats, **text_feats, \"filename\": \"common_voice_en_40865225.wav\"}\n",
    "df = pd.DataFrame([combined_features])\n",
    "df.set_index(\"filename\", inplace=True)"
   ]
  },
  {
   "cell_type": "code",
   "execution_count": 7,
   "id": "dbe93909-d251-402e-a2ab-44d06c70cd8f",
   "metadata": {},
   "outputs": [
    {
     "data": {
      "text/html": [
       "<div>\n",
       "<style scoped>\n",
       "    .dataframe tbody tr th:only-of-type {\n",
       "        vertical-align: middle;\n",
       "    }\n",
       "\n",
       "    .dataframe tbody tr th {\n",
       "        vertical-align: top;\n",
       "    }\n",
       "\n",
       "    .dataframe thead th {\n",
       "        text-align: right;\n",
       "    }\n",
       "</style>\n",
       "<table border=\"1\" class=\"dataframe\">\n",
       "  <thead>\n",
       "    <tr style=\"text-align: right;\">\n",
       "      <th></th>\n",
       "      <th>duration</th>\n",
       "      <th>avg_pitch</th>\n",
       "      <th>pitch_var</th>\n",
       "      <th>pause_count</th>\n",
       "      <th>word_count</th>\n",
       "      <th>hesitations</th>\n",
       "      <th>avg_word_length</th>\n",
       "    </tr>\n",
       "    <tr>\n",
       "      <th>filename</th>\n",
       "      <th></th>\n",
       "      <th></th>\n",
       "      <th></th>\n",
       "      <th></th>\n",
       "      <th></th>\n",
       "      <th></th>\n",
       "      <th></th>\n",
       "    </tr>\n",
       "  </thead>\n",
       "  <tbody>\n",
       "    <tr>\n",
       "      <th>common_voice_en_40865225.wav</th>\n",
       "      <td>3.42</td>\n",
       "      <td>1690.082031</td>\n",
       "      <td>1243177.25</td>\n",
       "      <td>4</td>\n",
       "      <td>8</td>\n",
       "      <td>0</td>\n",
       "      <td>3.125</td>\n",
       "    </tr>\n",
       "  </tbody>\n",
       "</table>\n",
       "</div>"
      ],
      "text/plain": [
       "                              duration    avg_pitch   pitch_var  pause_count  \\\n",
       "filename                                                                       \n",
       "common_voice_en_40865225.wav      3.42  1690.082031  1243177.25            4   \n",
       "\n",
       "                              word_count  hesitations  avg_word_length  \n",
       "filename                                                                \n",
       "common_voice_en_40865225.wav           8            0            3.125  "
      ]
     },
     "execution_count": 7,
     "metadata": {},
     "output_type": "execute_result"
    }
   ],
   "source": [
    "df"
   ]
  },
  {
   "cell_type": "code",
   "execution_count": null,
   "id": "c9fe880f-cf5b-4429-8a8b-f90a9bbab8fa",
   "metadata": {},
   "outputs": [],
   "source": []
  },
  {
   "cell_type": "code",
   "execution_count": 9,
   "id": "dde35080-207e-40fe-b7a5-c553fd442270",
   "metadata": {},
   "outputs": [
    {
     "name": "stdout",
     "output_type": "stream",
     "text": [
      "Processing: common_voice_en_40865225.wav\n",
      "Processing: common_voice_en_40865481.wav\n",
      "Processing: common_voice_en_40865482.wav\n",
      "Processing: common_voice_en_40865483.wav\n",
      "Processing: common_voice_en_40865484.wav\n"
     ]
    },
    {
     "data": {
      "text/html": [
       "<div>\n",
       "<style scoped>\n",
       "    .dataframe tbody tr th:only-of-type {\n",
       "        vertical-align: middle;\n",
       "    }\n",
       "\n",
       "    .dataframe tbody tr th {\n",
       "        vertical-align: top;\n",
       "    }\n",
       "\n",
       "    .dataframe thead th {\n",
       "        text-align: right;\n",
       "    }\n",
       "</style>\n",
       "<table border=\"1\" class=\"dataframe\">\n",
       "  <thead>\n",
       "    <tr style=\"text-align: right;\">\n",
       "      <th></th>\n",
       "      <th>duration</th>\n",
       "      <th>avg_pitch</th>\n",
       "      <th>pitch_var</th>\n",
       "      <th>pause_count</th>\n",
       "      <th>word_count</th>\n",
       "      <th>hesitations</th>\n",
       "      <th>avg_word_length</th>\n",
       "    </tr>\n",
       "    <tr>\n",
       "      <th>filename</th>\n",
       "      <th></th>\n",
       "      <th></th>\n",
       "      <th></th>\n",
       "      <th></th>\n",
       "      <th></th>\n",
       "      <th></th>\n",
       "      <th></th>\n",
       "    </tr>\n",
       "  </thead>\n",
       "  <tbody>\n",
       "    <tr>\n",
       "      <th>common_voice_en_40865225.wav</th>\n",
       "      <td>3.420</td>\n",
       "      <td>1690.082031</td>\n",
       "      <td>1243177.250</td>\n",
       "      <td>4</td>\n",
       "      <td>8</td>\n",
       "      <td>0</td>\n",
       "      <td>3.125000</td>\n",
       "    </tr>\n",
       "    <tr>\n",
       "      <th>common_voice_en_40865481.wav</th>\n",
       "      <td>4.608</td>\n",
       "      <td>1340.500977</td>\n",
       "      <td>996770.125</td>\n",
       "      <td>10</td>\n",
       "      <td>9</td>\n",
       "      <td>0</td>\n",
       "      <td>4.777778</td>\n",
       "    </tr>\n",
       "    <tr>\n",
       "      <th>common_voice_en_40865482.wav</th>\n",
       "      <td>4.284</td>\n",
       "      <td>1365.894897</td>\n",
       "      <td>1104203.750</td>\n",
       "      <td>4</td>\n",
       "      <td>10</td>\n",
       "      <td>0</td>\n",
       "      <td>5.400000</td>\n",
       "    </tr>\n",
       "    <tr>\n",
       "      <th>common_voice_en_40865483.wav</th>\n",
       "      <td>5.220</td>\n",
       "      <td>1566.147705</td>\n",
       "      <td>1114854.250</td>\n",
       "      <td>7</td>\n",
       "      <td>13</td>\n",
       "      <td>0</td>\n",
       "      <td>4.615385</td>\n",
       "    </tr>\n",
       "    <tr>\n",
       "      <th>common_voice_en_40865484.wav</th>\n",
       "      <td>4.788</td>\n",
       "      <td>1493.921753</td>\n",
       "      <td>1119288.000</td>\n",
       "      <td>3</td>\n",
       "      <td>1</td>\n",
       "      <td>0</td>\n",
       "      <td>4.000000</td>\n",
       "    </tr>\n",
       "  </tbody>\n",
       "</table>\n",
       "</div>"
      ],
      "text/plain": [
       "                              duration    avg_pitch    pitch_var  pause_count  \\\n",
       "filename                                                                        \n",
       "common_voice_en_40865225.wav     3.420  1690.082031  1243177.250            4   \n",
       "common_voice_en_40865481.wav     4.608  1340.500977   996770.125           10   \n",
       "common_voice_en_40865482.wav     4.284  1365.894897  1104203.750            4   \n",
       "common_voice_en_40865483.wav     5.220  1566.147705  1114854.250            7   \n",
       "common_voice_en_40865484.wav     4.788  1493.921753  1119288.000            3   \n",
       "\n",
       "                              word_count  hesitations  avg_word_length  \n",
       "filename                                                                \n",
       "common_voice_en_40865225.wav           8            0         3.125000  \n",
       "common_voice_en_40865481.wav           9            0         4.777778  \n",
       "common_voice_en_40865482.wav          10            0         5.400000  \n",
       "common_voice_en_40865483.wav          13            0         4.615385  \n",
       "common_voice_en_40865484.wav           1            0         4.000000  "
      ]
     },
     "execution_count": 9,
     "metadata": {},
     "output_type": "execute_result"
    }
   ],
   "source": [
    "audio_folder = r\"C:\\Users\\Admin\\Desktop\\Voice-Based-Cognitive-Decline-Detection-main\\Voice-Based-Cognitive-Decline-Detection-main\\fake voice samples\\audio_samples\"\n",
    "features = []\n",
    "\n",
    "for filename in os.listdir(audio_folder):\n",
    "    if filename.endswith(\".wav\"):\n",
    "        path = os.path.join(audio_folder, filename)\n",
    "        print(f\"Processing: {filename}\")\n",
    "        audio_feats = extract_audio_features(path)\n",
    "        text = transcribe_audio(path)\n",
    "        text_feats = extract_text_features(text)\n",
    "        combined = {**audio_feats, **text_feats, \"filename\": filename}\n",
    "        features.append(combined)\n",
    "\n",
    "df = pd.DataFrame(features)\n",
    "df.set_index(\"filename\", inplace=True)\n",
    "df.fillna(0, inplace=True)\n",
    "df\n"
   ]
  },
  {
   "cell_type": "code",
   "execution_count": null,
   "id": "8742eb5b-1138-4f5b-8569-4b14244efa29",
   "metadata": {},
   "outputs": [],
   "source": []
  },
  {
   "cell_type": "markdown",
   "id": "36e681f8-103d-47d0-b149-10e366c2cb2f",
   "metadata": {},
   "source": [
    "## Step 5: Clustering & Dimensionality Reduction"
   ]
  },
  {
   "cell_type": "code",
   "execution_count": 10,
   "id": "c5559828-abae-492a-b2a6-cbfb1d2482df",
   "metadata": {},
   "outputs": [],
   "source": [
    "scaler = StandardScaler()\n",
    "scaled = scaler.fit_transform(df)\n",
    "\n",
    "pca = PCA(n_components=2)\n",
    "pca_components = pca.fit_transform(scaled)\n",
    "\n",
    "kmeans = KMeans(n_clusters=2, random_state=42)\n",
    "df[\"cluster\"] = kmeans.fit_predict(scaled)"
   ]
  },
  {
   "cell_type": "code",
   "execution_count": 11,
   "id": "66e30eb8-be18-4e4e-bcae-c261bf871ba0",
   "metadata": {},
   "outputs": [
    {
     "data": {
      "text/html": [
       "<div>\n",
       "<style scoped>\n",
       "    .dataframe tbody tr th:only-of-type {\n",
       "        vertical-align: middle;\n",
       "    }\n",
       "\n",
       "    .dataframe tbody tr th {\n",
       "        vertical-align: top;\n",
       "    }\n",
       "\n",
       "    .dataframe thead th {\n",
       "        text-align: right;\n",
       "    }\n",
       "</style>\n",
       "<table border=\"1\" class=\"dataframe\">\n",
       "  <thead>\n",
       "    <tr style=\"text-align: right;\">\n",
       "      <th></th>\n",
       "      <th>duration</th>\n",
       "      <th>avg_pitch</th>\n",
       "      <th>pitch_var</th>\n",
       "      <th>pause_count</th>\n",
       "      <th>word_count</th>\n",
       "      <th>hesitations</th>\n",
       "      <th>avg_word_length</th>\n",
       "      <th>cluster</th>\n",
       "    </tr>\n",
       "    <tr>\n",
       "      <th>filename</th>\n",
       "      <th></th>\n",
       "      <th></th>\n",
       "      <th></th>\n",
       "      <th></th>\n",
       "      <th></th>\n",
       "      <th></th>\n",
       "      <th></th>\n",
       "      <th></th>\n",
       "    </tr>\n",
       "  </thead>\n",
       "  <tbody>\n",
       "    <tr>\n",
       "      <th>common_voice_en_40865225.wav</th>\n",
       "      <td>3.420</td>\n",
       "      <td>1690.082031</td>\n",
       "      <td>1243177.250</td>\n",
       "      <td>4</td>\n",
       "      <td>8</td>\n",
       "      <td>0</td>\n",
       "      <td>3.125000</td>\n",
       "      <td>1</td>\n",
       "    </tr>\n",
       "    <tr>\n",
       "      <th>common_voice_en_40865481.wav</th>\n",
       "      <td>4.608</td>\n",
       "      <td>1340.500977</td>\n",
       "      <td>996770.125</td>\n",
       "      <td>10</td>\n",
       "      <td>9</td>\n",
       "      <td>0</td>\n",
       "      <td>4.777778</td>\n",
       "      <td>0</td>\n",
       "    </tr>\n",
       "    <tr>\n",
       "      <th>common_voice_en_40865482.wav</th>\n",
       "      <td>4.284</td>\n",
       "      <td>1365.894897</td>\n",
       "      <td>1104203.750</td>\n",
       "      <td>4</td>\n",
       "      <td>10</td>\n",
       "      <td>0</td>\n",
       "      <td>5.400000</td>\n",
       "      <td>0</td>\n",
       "    </tr>\n",
       "    <tr>\n",
       "      <th>common_voice_en_40865483.wav</th>\n",
       "      <td>5.220</td>\n",
       "      <td>1566.147705</td>\n",
       "      <td>1114854.250</td>\n",
       "      <td>7</td>\n",
       "      <td>13</td>\n",
       "      <td>0</td>\n",
       "      <td>4.615385</td>\n",
       "      <td>0</td>\n",
       "    </tr>\n",
       "    <tr>\n",
       "      <th>common_voice_en_40865484.wav</th>\n",
       "      <td>4.788</td>\n",
       "      <td>1493.921753</td>\n",
       "      <td>1119288.000</td>\n",
       "      <td>3</td>\n",
       "      <td>1</td>\n",
       "      <td>0</td>\n",
       "      <td>4.000000</td>\n",
       "      <td>1</td>\n",
       "    </tr>\n",
       "  </tbody>\n",
       "</table>\n",
       "</div>"
      ],
      "text/plain": [
       "                              duration    avg_pitch    pitch_var  pause_count  \\\n",
       "filename                                                                        \n",
       "common_voice_en_40865225.wav     3.420  1690.082031  1243177.250            4   \n",
       "common_voice_en_40865481.wav     4.608  1340.500977   996770.125           10   \n",
       "common_voice_en_40865482.wav     4.284  1365.894897  1104203.750            4   \n",
       "common_voice_en_40865483.wav     5.220  1566.147705  1114854.250            7   \n",
       "common_voice_en_40865484.wav     4.788  1493.921753  1119288.000            3   \n",
       "\n",
       "                              word_count  hesitations  avg_word_length  \\\n",
       "filename                                                                 \n",
       "common_voice_en_40865225.wav           8            0         3.125000   \n",
       "common_voice_en_40865481.wav           9            0         4.777778   \n",
       "common_voice_en_40865482.wav          10            0         5.400000   \n",
       "common_voice_en_40865483.wav          13            0         4.615385   \n",
       "common_voice_en_40865484.wav           1            0         4.000000   \n",
       "\n",
       "                              cluster  \n",
       "filename                               \n",
       "common_voice_en_40865225.wav        1  \n",
       "common_voice_en_40865481.wav        0  \n",
       "common_voice_en_40865482.wav        0  \n",
       "common_voice_en_40865483.wav        0  \n",
       "common_voice_en_40865484.wav        1  "
      ]
     },
     "execution_count": 11,
     "metadata": {},
     "output_type": "execute_result"
    }
   ],
   "source": [
    "df"
   ]
  },
  {
   "cell_type": "code",
   "execution_count": null,
   "id": "40e87e87-367c-425a-abfc-7b7700358d1d",
   "metadata": {},
   "outputs": [],
   "source": []
  },
  {
   "cell_type": "markdown",
   "id": "40f09ab4-5c69-43fc-9ec7-53b904b0ee21",
   "metadata": {},
   "source": [
    "## Step 6: Visualize Clusters"
   ]
  },
  {
   "cell_type": "code",
   "execution_count": 12,
   "id": "8ead5e78-0a6b-4154-81e4-d39c0a4f850a",
   "metadata": {},
   "outputs": [
    {
     "data": {
      "image/png": "[encoded data removed]",
      "text/plain": [
       "<Figure size 800x500 with 1 Axes>"
      ]
     },
     "metadata": {},
     "output_type": "display_data"
    }
   ],
   "source": [
    "plt.figure(figsize=(8, 5))\n",
    "sns.scatterplot(x=pca_components[:, 0], y=pca_components[:, 1], hue=df[\"cluster\"], palette='Set1')\n",
    "plt.title(\"Cognitive Pattern Clustering\")\n",
    "plt.xlabel(\"PCA 1\")\n",
    "plt.ylabel(\"PCA 2\")\n",
    "plt.grid(True)\n",
    "plt.show()\n"
   ]
  },
  {
   "cell_type": "code",
   "execution_count": null,
   "id": "0e53472a-5203-4726-8e70-02afecd83195",
   "metadata": {},
   "outputs": [],
   "source": []
  },
  {
   "cell_type": "markdown",
   "id": "238b6b11-75e9-44a1-8f4d-dfcec2faa90f",
   "metadata": {},
   "source": [
    "## Step 7: Save Results"
   ]
  },
  {
   "cell_type": "code",
   "execution_count": 13,
   "id": "e0ccdf46-61e2-4254-847c-fc4b1b54b61f",
   "metadata": {},
   "outputs": [
    {
     "name": "stdout",
     "output_type": "stream",
     "text": [
      "Results saved as 'bulk_voice_features.csv'\n"
     ]
    }
   ],
   "source": [
    "df.to_csv(\"bulk_voice_features.csv\")\n",
    "print(\"Results saved as 'bulk_voice_features.csv'\")"
   ]
  },
  {
   "cell_type": "code",
   "execution_count": null,
   "id": "f75ba8d7-b741-478a-a3e5-63608b370783",
   "metadata": {},
   "outputs": [],
   "source": []
  }
 ],
 "metadata": {
  "kernelspec": {
   "display_name": "Python 3 (ipykernel)",
   "language": "python",
   "name": "python3"
  },
  "language_info": {
   "codemirror_mode": {
    "name": "ipython",
    "version": 3
   },
   "file_extension": ".py",
   "mimetype": "text/x-python",
   "name": "python",
   "nbconvert_exporter": "python",
   "pygments_lexer": "ipython3",
   "version": "3.11.5"
  }
 },
 "nbformat": 4,
 "nbformat_minor": 5
}
